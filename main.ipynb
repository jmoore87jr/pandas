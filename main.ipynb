{
 "cells": [
  {
   "cell_type": "markdown",
   "id": "296fd13b",
   "metadata": {},
   "source": [
    "1. Load data from s3\n",
    "2. Concatenate\n",
    "3. Merge on new ID column\n",
    "4. Save to postgres\n",
    "\n",
    "* df1 data is pipe delimited and the ID columns need to be combined to match the df2 ID column\n",
    "* df2 data is fixed width"
   ]
  },
  {
   "cell_type": "code",
   "execution_count": 4,
   "id": "2da175e2",
   "metadata": {},
   "outputs": [],
   "source": [
    "import pandas as pd\n",
    "import s3fs\n",
    "from sqlalchemy import create_engine\n",
    "import psycopg2\n",
    "from credentials import *"
   ]
  },
  {
   "cell_type": "code",
   "execution_count": 5,
   "id": "64bf04c1",
   "metadata": {},
   "outputs": [],
   "source": [
    "# LOAD FUNCTIONS\n",
    "\n",
    "def concat_dfs(csvs, sep=',', fwf=False):\n",
    "    \"\"\" \n",
    "    * take a list of pandas dataframes and concatenate them vertically\n",
    "    * sep is the delimiter\n",
    "    * fwf indicates whether the file is fixed width as opposed to delimited\n",
    "    \"\"\"\n",
    "\n",
    "    # turn the list of csvs into a list of Pandas dataframes\n",
    "    dfs = [ pd.read_fwf(file) if fwf else pd.read_csv(file, sep=sep) for file in csvs ]\n",
    "\n",
    "    print(\"Original dataframes:\")\n",
    "    for df in dfs:\n",
    "        print(df)\n",
    "\n",
    "    # concatenate dataframes and reset index\n",
    "    result = pd.concat(dfs, ignore_index=True)\n",
    "    \n",
    "    return result\n",
    "\n",
    "def load_from_s3():\n",
    "   # pipe delimited\n",
    "    df1 = concat_dfs(PIPE_DELIMITED_FILES, sep='|')\n",
    "\n",
    "    # fixed width\n",
    "    df2 = pd.read_fwf(FIXED_WIDTH_FILE)\n",
    "\n",
    "    print(\"Loaded files from s3\")\n",
    "    print(df1)\n",
    "    print(df2)\n",
    "\n",
    "    return [df1,df2]\n",
    "\n",
    "\n",
    "def merge_dfs(df1, df2):\n",
    "    # concatenate the 3 separate ID rows in df1 and remove the partial ID columns\n",
    "    df1.insert(0, 'ID', df1['ID1'].astype('str') + df1['ID2'] + df1['ID3'])\n",
    "    df1 = df1[['ID', 'A', 'B']]\n",
    "\n",
    "    # merge the dataframes on ID and sort by ID\n",
    "    result = df1.merge(df2, left_on='ID', right_on='ID').sort_values(by='ID')\n",
    "\n",
    "    print(\"Merged dataframes\")\n",
    "    print(result)\n",
    "\n",
    "    return result\n",
    "\n",
    "def save_to_rds(df):\n",
    "    try:\n",
    "        # connect to database\n",
    "        conn = psycopg2.connect(\n",
    "            host=DATABASE_ENDPOINT,\n",
    "            database=DATABASE_NAME,\n",
    "            user=USERNAME,\n",
    "            password=PASSWORD,\n",
    "            port=PORT\n",
    "        )\n",
    "        print(\"Connected to database\")\n",
    "\n",
    "        # create engine\n",
    "        engine = create_engine(f'postgresql://{USERNAME}:{PASSWORD}@{DATABASE_ENDPOINT}:{PORT}/{DATABASE_NAME}')\n",
    "\n",
    "        # insert data\n",
    "        try:\n",
    "            df.to_sql('table1', con=engine, if_exists='append', chunksize=20000)\n",
    "        except:\n",
    "            print(\"Data format doesn't match database format\")\n",
    "\n",
    "        # commit to database\n",
    "        conn.commit()\n",
    "        print(\"Saved to database\")\n",
    "\n",
    "        # close connection\n",
    "        conn.close()\n",
    "        print(\"Connection closed\")\n",
    "\n",
    "    except psycopg2.OperationalError as e:\n",
    "        print(e)"
   ]
  },
  {
   "cell_type": "code",
   "execution_count": 7,
   "id": "1c1f4148",
   "metadata": {},
   "outputs": [
    {
     "name": "stdout",
     "output_type": "stream",
     "text": [
      "Original dataframes:\n",
      "   ID1 ID2   ID3  A  B\n",
      "0    8   z  text  9  7\n",
      "1    4   z  text  6  1\n",
      "2    3   z  text  8  3\n",
      "3    0   z  text  7  4\n",
      "   ID1 ID2   ID3  A  B\n",
      "0    9   z  text  1  2\n",
      "1    5   z  text  3  5\n",
      "2    2   z  text  9  4\n",
      "   ID1 ID2   ID3  A  B\n",
      "0    1   z  text  1  2\n",
      "1    6   z  text  6  3\n",
      "2    7   z  text  7  2\n",
      "Loaded files from s3\n",
      "   ID1 ID2   ID3  A  B\n",
      "0    8   z  text  9  7\n",
      "1    4   z  text  6  1\n",
      "2    3   z  text  8  3\n",
      "3    0   z  text  7  4\n",
      "4    9   z  text  1  2\n",
      "5    5   z  text  3  5\n",
      "6    2   z  text  9  4\n",
      "7    1   z  text  1  2\n",
      "8    6   z  text  6  3\n",
      "9    7   z  text  7  2\n",
      "       ID  D  E  F\n",
      "0  0ztext  1  2  3\n",
      "1  1ztext  4  5  6\n",
      "2  2ztext  7  8  9\n",
      "3  3ztext  1  2  3\n",
      "4  4ztext  4  5  6\n",
      "5  5ztext  7  8  9\n",
      "6  6ztext  1  2  3\n",
      "7  7ztext  4  5  6\n",
      "8  8ztext  7  8  9\n",
      "9  9ztext  1  2  3\n"
     ]
    }
   ],
   "source": [
    "# LOAD DATA FROM S3 AND FORMAT\n",
    "\n",
    "dfs = load_from_s3()"
   ]
  },
  {
   "cell_type": "code",
   "execution_count": 8,
   "id": "bea4feef",
   "metadata": {},
   "outputs": [
    {
     "name": "stdout",
     "output_type": "stream",
     "text": [
      "Merged dataframes\n",
      "       ID  A  B  D  E  F\n",
      "3  0ztext  7  4  1  2  3\n",
      "7  1ztext  1  2  4  5  6\n",
      "6  2ztext  9  4  7  8  9\n",
      "2  3ztext  8  3  1  2  3\n",
      "1  4ztext  6  1  4  5  6\n",
      "5  5ztext  3  5  7  8  9\n",
      "8  6ztext  6  3  1  2  3\n",
      "9  7ztext  7  2  4  5  6\n",
      "0  8ztext  9  7  7  8  9\n",
      "4  9ztext  1  2  1  2  3\n"
     ]
    }
   ],
   "source": [
    "# MERGE THE 2 DATAFRAMES\n",
    "\n",
    "df = merge_dfs(dfs[0], dfs[1])"
   ]
  },
  {
   "cell_type": "code",
   "execution_count": 10,
   "id": "4c27a5ec",
   "metadata": {},
   "outputs": [
    {
     "name": "stdout",
     "output_type": "stream",
     "text": [
      "Connected to database\n",
      "Saved to database\n",
      "Connection closed\n"
     ]
    }
   ],
   "source": [
    "# SAVE TO POSTGRES\n",
    "\n",
    "save_to_rds(df)"
   ]
  },
  {
   "cell_type": "code",
   "execution_count": null,
   "id": "fad65c6c",
   "metadata": {},
   "outputs": [],
   "source": []
  }
 ],
 "metadata": {
  "kernelspec": {
   "display_name": "Python 3",
   "language": "python",
   "name": "python3"
  },
  "language_info": {
   "codemirror_mode": {
    "name": "ipython",
    "version": 3
   },
   "file_extension": ".py",
   "mimetype": "text/x-python",
   "name": "python",
   "nbconvert_exporter": "python",
   "pygments_lexer": "ipython3",
   "version": "3.8.5"
  }
 },
 "nbformat": 4,
 "nbformat_minor": 5
}
