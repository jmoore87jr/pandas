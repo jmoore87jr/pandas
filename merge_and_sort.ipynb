{
 "cells": [
  {
   "cell_type": "code",
   "execution_count": 1,
   "id": "c56bb7b9",
   "metadata": {},
   "outputs": [],
   "source": [
    "import pandas as pd \n",
    "import time\n",
    "from generate import generate"
   ]
  },
  {
   "cell_type": "code",
   "execution_count": 7,
   "id": "154a4e0d",
   "metadata": {},
   "outputs": [],
   "source": [
    "numrows = 10000000 # 1 million rows. change this number to see how size affects performance."
   ]
  },
  {
   "cell_type": "code",
   "execution_count": null,
   "id": "3d552f4e",
   "metadata": {},
   "outputs": [
    {
     "name": "stdout",
     "output_type": "stream",
     "text": [
      "dataframes generated with 10000000 rows\n"
     ]
    }
   ],
   "source": [
    "df1, df2 = generate(numrows) # generate dummy dataframes\n",
    "print(df1.head()) # random numbers\n",
    "print(df1.shape)\n",
    "print(df2.head()) # heights and weights\n",
    "print(df2.shape)"
   ]
  },
  {
   "cell_type": "code",
   "execution_count": 4,
   "id": "c02b2a97",
   "metadata": {},
   "outputs": [
    {
     "name": "stdout",
     "output_type": "stream",
     "text": [
      "Merge took 0.30541443824768066 seconds\n"
     ]
    }
   ],
   "source": [
    "# merge\n",
    "start_time = time.time()\n",
    "df = df1.merge(df2, left_on=\"ID\", right_on=\"ID\")\n",
    "print(f\"Merge took {(time.time() - start_time)} seconds\")"
   ]
  },
  {
   "cell_type": "code",
   "execution_count": 5,
   "id": "702c0777",
   "metadata": {},
   "outputs": [
    {
     "name": "stdout",
     "output_type": "stream",
     "text": [
      "Sort took 0.27071261405944824 seconds\n"
     ]
    }
   ],
   "source": [
    "# sort\n",
    "start_time = time.time()\n",
    "df = df.sort_values(by='Height', ascending=False)\n",
    "print(f\"Sort took {(time.time() - start_time)} seconds\")"
   ]
  },
  {
   "cell_type": "code",
   "execution_count": 6,
   "id": "399054bd",
   "metadata": {},
   "outputs": [
    {
     "name": "stdout",
     "output_type": "stream",
     "text": [
      "<class 'pandas.core.frame.DataFrame'>\n",
      "Int64Index: 1000000 entries, 138043 to 6607\n",
      "Data columns (total 10 columns):\n",
      " #   Column    Non-Null Count    Dtype  \n",
      "---  ------    --------------    -----  \n",
      " 0   ID        1000000 non-null  int64  \n",
      " 1   A         1000000 non-null  int64  \n",
      " 2   B         1000000 non-null  int64  \n",
      " 3   C         1000000 non-null  int64  \n",
      " 4   D         1000000 non-null  int64  \n",
      " 5   E         1000000 non-null  int64  \n",
      " 6   F         1000000 non-null  int64  \n",
      " 7   G         1000000 non-null  int64  \n",
      " 8   Height    1000000 non-null  float64\n",
      " 9   Wingspan  1000000 non-null  float64\n",
      "dtypes: float64(2), int64(8)\n",
      "memory usage: 83.9 MB\n",
      "None\n"
     ]
    }
   ],
   "source": [
    "# how much memory is this DataFrame using?\n",
    "print(df.info(memory_usage=\"deep\"))"
   ]
  },
  {
   "cell_type": "code",
   "execution_count": null,
   "id": "84432ed0",
   "metadata": {},
   "outputs": [],
   "source": []
  }
 ],
 "metadata": {
  "kernelspec": {
   "display_name": "Python 3",
   "language": "python",
   "name": "python3"
  },
  "language_info": {
   "codemirror_mode": {
    "name": "ipython",
    "version": 3
   },
   "file_extension": ".py",
   "mimetype": "text/x-python",
   "name": "python",
   "nbconvert_exporter": "python",
   "pygments_lexer": "ipython3",
   "version": "3.8.5"
  }
 },
 "nbformat": 4,
 "nbformat_minor": 5
}
